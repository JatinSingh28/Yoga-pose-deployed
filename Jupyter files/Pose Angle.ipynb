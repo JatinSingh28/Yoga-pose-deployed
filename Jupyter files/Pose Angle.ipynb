{
 "cells": [
  {
   "cell_type": "code",
   "execution_count": 1,
   "id": "5ec5ee54",
   "metadata": {},
   "outputs": [],
   "source": [
    "# !pip install mediapipe opencv-python\n",
    "# !pip3 install tensorflowjs\n",
    "# !pip install protobuf==3.20.*\n",
    "# !pip uninstall mediapipe\n",
    "# !pip install mlserver==1.0.1 grpcio==3.20.1"
   ]
  },
  {
   "cell_type": "code",
   "execution_count": 32,
   "id": "6a8b0f37",
   "metadata": {},
   "outputs": [],
   "source": [
    "import cv2\n",
    "import mediapipe as mp\n",
    "import tensorflow as tf\n",
    "import csv\n",
    "import numpy as np\n",
    "import os\n",
    "import pandas as pd\n",
    "from sklearn.preprocessing import LabelEncoder\n",
    "# import tensorflowjs as tfjs\n",
    "# import tensorflowjs as tfjs"
   ]
  },
  {
   "cell_type": "code",
   "execution_count": 33,
   "id": "20ffab0d",
   "metadata": {},
   "outputs": [],
   "source": [
    "mp_drawing = mp.solutions.drawing_utils\n",
    "mp_drawing_styles = mp.solutions.drawing_styles\n",
    "mp_pose = mp.solutions.pose"
   ]
  },
  {
   "cell_type": "code",
   "execution_count": 4,
   "id": "be6d1c97",
   "metadata": {},
   "outputs": [],
   "source": [
    "# cap = cv2.VideoCapture(0)\n",
    "# with mp_pose.Pose(min_detection_confidence=0.5, min_tracking_confidence=0.5) as pose:\n",
    "#   while cap.isOpened():\n",
    "#     success, image = cap.read()\n",
    "#     if not success:\n",
    "#       print(\"Unable to record\")\n",
    "#       continue\n",
    "#     image.flags.writeable = False\n",
    "#     image = cv2.cvtColor(image,cv2.COLOR_BGR2RGB )\n",
    "#     results = pose.process(image)\n",
    "\n",
    "#     image.flags.writeable = True\n",
    "#     image = cv2.cvtColor(image, cv2.COLOR_RGB2BGR)\n",
    "\n",
    "#     mp_drawing.draw_landmarks(image, results.pose_landmarks, mp_pose.POSE_CONNECTIONS, landmark_drawing_spec = mp_drawing_styles.get_default_pose_landmarks_style())\n",
    "\n",
    "#     cv2.imshow('MediaPipe Pose', cv2.flip(image,1))\n",
    "\n",
    "#     if cv2.waitKey(5) & 0xFF == ord('q'):\n",
    "#       break\n",
    "# cap.release()\n",
    "# cv2.destroyAllWindows()"
   ]
  },
  {
   "cell_type": "code",
   "execution_count": 5,
   "id": "8c71462e",
   "metadata": {},
   "outputs": [],
   "source": [
    "# def get_center_point(landmarks, left_bodypart, right_bodypart):\n",
    "#     left = tf.gather(landmarks, left_bodypart.value, axis=1)\n",
    "#     right = tf.gather(landmarks, right_bodypart.value, axis=1)\n",
    "#     center = left * 0.5 + right * 0.5\n",
    "#     return center\n",
    "\n",
    "\n",
    "# def get_pose_size(landmarks, torso_size_multiplier=2.5):\n",
    "#     hips_center = get_center_point(landmarks, BodyPart.LEFT_HIP, \n",
    "#                                  BodyPart.RIGHT_HIP)\n",
    "\n",
    "#   # Shoulders center\n",
    "#     shoulders_center = get_center_point(landmarks, BodyPart.LEFT_SHOULDER,\n",
    "#                                       BodyPart.RIGHT_SHOULDER)\n",
    "\n",
    "#   # Torso size as the minimum body size\n",
    "#     torso_size = tf.linalg.norm(shoulders_center - hips_center)\n",
    "\n",
    "#   # Pose center\n",
    "#     pose_center_new = get_center_point(landmarks, BodyPart.LEFT_HIP, \n",
    "#                                      BodyPart.RIGHT_HIP)\n",
    "#     pose_center_new = tf.expand_dims(pose_center_new, axis=1)\n",
    "#   # Broadcast the pose center to the same size as the landmark vector to\n",
    "#   # perform substraction\n",
    "#     pose_center_new = tf.broadcast_to(pose_center_new,\n",
    "#                                     [tf.size(landmarks) // (17*2), 17, 2])\n",
    "\n",
    "#   # Dist to pose center\n",
    "#     d = tf.gather(landmarks - pose_center_new, 0, axis=0,\n",
    "#                 name=\"dist_to_pose_center\")\n",
    "#   # Max dist to pose center\n",
    "#     max_dist = tf.reduce_max(tf.linalg.norm(d, axis=0))\n",
    "\n",
    "#   # Normalize scale\n",
    "#     pose_size = tf.maximum(torso_size * torso_size_multiplier, max_dist)\n",
    "\n",
    "#     return pose_size\n",
    "\n",
    "\n",
    "# def normalize_pose_landmarks(landmarks):\n",
    "#     pose_center = get_center_point(landmarks, BodyPart.LEFT_HIP, \n",
    "#                                  BodyPart.RIGHT_HIP)\n",
    "#     pose_center = tf.expand_dims(pose_center, axis=1)\n",
    "#   # Broadcast the pose center to the same size as the landmark vector to perform\n",
    "#   # substraction\n",
    "#     pose_center = tf.broadcast_to(pose_center, \n",
    "#                                 [tf.size(landmarks) // (17*2), 17, 2])\n",
    "#     landmarks = landmarks - pose_center\n",
    "\n",
    "#   # Scale the landmarks to a constant pose size\n",
    "#     pose_size = get_pose_size(landmarks)\n",
    "#     landmarks /= pose_size\n",
    "\n",
    "#     return landmarks\n",
    "\n",
    "\n",
    "# def landmarks_to_embedding(landmarks_and_scores):\n",
    "#     reshaped_inputs = keras.layers.Reshape((33, 3))(landmarks_and_scores)\n",
    "\n",
    "#   # Normalize landmarks 2D\n",
    "#     landmarks = normalize_pose_landmarks(reshaped_inputs[:, :, :2])\n",
    "\n",
    "#   # Flatten the normalized landmark coordinates into a vector\n",
    "#     embedding = keras.layers.Flatten()(landmarks)\n",
    "\n",
    "#     return embedding"
   ]
  },
  {
   "cell_type": "code",
   "execution_count": 6,
   "id": "f2659e37",
   "metadata": {},
   "outputs": [],
   "source": [
    "# def get_center_point(landmarks, left_bodypart, right_bodypart):\n",
    "#     left = tf.gather(landmarks, left_bodypart, 1)\n",
    "#     right = tf.gather(landmarks, right_bodypart, 1)\n",
    "#     center = tf.add(tf.mul(left, 0.5), tf.mul(right, 0.5))\n",
    "#     return center\n",
    "  \n",
    "\n",
    "# def get_pose_size(landmarks, torso_size_multiplier = 2.5):\n",
    "#     hips_center = get_center_point(\n",
    "#       landmarks,\n",
    "#       POINTS.LEFT_HIP,\n",
    "#       POINTS.RIGHT_HIP\n",
    "#     )\n",
    "#     shoulders_center = get_center_point(\n",
    "#       landmarks,\n",
    "#       POINTS.LEFT_SHOULDER,\n",
    "#       POINTS.RIGHT_SHOULDER\n",
    "#     )\n",
    "#     torso_size = tf.norm(tf.sub(shoulders_center, hips_center))\n",
    "#     pose_center_new = get_center_point(\n",
    "#       landmarks,\n",
    "#       POINTS.LEFT_HIP,\n",
    "#       POINTS.RIGHT_HIP\n",
    "#     )\n",
    "#     pose_center_new = tf.expandDims(pose_center_new, 1)\n",
    "\n",
    "# #     // pose_center_new = tf.broadcastTo(pose_center_new, [1, 17, 2]);\n",
    "# #     // return: shape(17,2)\n",
    "#     d = tf.gather(tf.sub(landmarks, pose_center_new), 0, 0)\n",
    "#     max_dist = tf.max(tf.norm(d, \"euclidean\", 0))\n",
    "\n",
    "# #     // normalize scale\n",
    "#     pose_size = tf.maximum(\n",
    "#       tf.mul(torso_size, torso_size_multiplier),\n",
    "#       max_dist\n",
    "#     )\n",
    "#     return pose_size\n",
    "\n",
    "# def normalize_pose_landmarks(landmarks):\n",
    "#     pose_center = get_center_point(\n",
    "#       landmarks,\n",
    "#       POINTS.LEFT_HIP,\n",
    "#       POINTS.RIGHT_HIP\n",
    "#     )\n",
    "#     pose_center = tf.expandDims(pose_center, 1)\n",
    "# #     // pose_center = tf.broadcastTo(pose_center, [1, 17, 2])\n",
    "#     landmarks = tf.sub(landmarks, pose_center)\n",
    "\n",
    "#     pose_size = get_pose_size(landmarks)\n",
    "#     landmarks = tf.div(landmarks, pose_size)\n",
    "#     return landmarks\n",
    "\n",
    "# def landmarks_to_embedding(landmarks):\n",
    "# #     // normalize landmarks 2D\n",
    "#     landmarks = normalize_pose_landmarks(tf.expandDims(landmarks, 0))\n",
    "#     embedding = tf.reshape(landmarks, [1, 99])\n",
    "# #     // console.log(embedding.array().then((data) => console.log(data)));\n",
    "#     return embedding\n",
    "  "
   ]
  },
  {
   "cell_type": "code",
   "execution_count": 55,
   "id": "ab104027",
   "metadata": {},
   "outputs": [],
   "source": [
    "# Run this to generate pose coordinate\n",
    "csv_out_path = 'pose_coordinatenew.csv'\n",
    "csv_angles_path = 'pose_angles.csv'\n",
    "with open(csv_out_path, 'w') as csv_out_file, open(csv_angles_path,'w') as anglefile:\n",
    "    csv_out_writer = csv.writer(csv_out_file, delimiter=',', quoting=csv.QUOTE_MINIMAL)\n",
    "    csv_out_writer1 = csv.writer(anglefile, delimiter=',', quoting=csv.QUOTE_MINIMAL)\n",
    "    \n",
    "    basepath = 'train'\n",
    "    for entry in os.listdir(basepath):\n",
    "        folder_path = os.path.join(basepath, entry)\n",
    "        for img in os.listdir(folder_path):\n",
    "            with mp_pose.Pose(min_detection_confidence=0.5, min_tracking_confidence=0.5) as pose:\n",
    "                image_path = os.path.join(folder_path,img)\n",
    "                image = cv2.imread(image_path)\n",
    "\n",
    "                image.flags.writeable = False\n",
    "                image = cv2.cvtColor(image,cv2.COLOR_BGR2RGB )\n",
    "                result = pose.process(image)\n",
    "                pose_landmarks = result.pose_landmarks\n",
    "                output_frame = image.copy()\n",
    "                \n",
    "                if pose_landmarks is not None:\n",
    "                    # Check the number of landmarks and take pose landmarks.\n",
    "                    assert len(pose_landmarks.landmark) == 33, 'Unexpected number of predicted pose landmarks: {}'.format(len(pose_landmarks.landmark))\n",
    "                    pose_landmarks = [[lmk.x, lmk.y, lmk.z] for lmk in pose_landmarks.landmark]\n",
    "                    frame_height, frame_width = output_frame.shape[:2]\n",
    "                    pose_landmarks *= np.array([frame_width, frame_height, frame_width])\n",
    "                    \n",
    "                    a = pose_landmarks[12]\n",
    "                    b = pose_landmarks[14]\n",
    "                    c = pose_landmarks[16]\n",
    "                    e = a-b\n",
    "                    f = b-c\n",
    "                    angle = np.dot(f,e)\n",
    "                    relbow = np.degrees(np.cos(angle))\n",
    "                    \n",
    "                    a = pose_landmarks[11]\n",
    "                    b = pose_landmarks[13]\n",
    "                    c = pose_landmarks[15]\n",
    "                    e = a-b\n",
    "                    f = b-c\n",
    "                    angle = np.dot(f,e)\n",
    "                    lelbow = np.degrees(np.cos(angle))\n",
    "                    \n",
    "                    a = pose_landmarks[14]\n",
    "                    b = pose_landmarks[12]\n",
    "                    c = pose_landmarks[24]\n",
    "                    e = a-b\n",
    "                    f = b-c\n",
    "                    angle = np.dot(f,e)\n",
    "                    lshoulder = np.degrees(np.cos(angle))\n",
    "                    \n",
    "                    a = pose_landmarks[13]\n",
    "                    b = pose_landmarks[11]\n",
    "                    c = pose_landmarks[23]\n",
    "                    e = a-b\n",
    "                    f = b-c\n",
    "                    angle = np.dot(f,e)\n",
    "                    rshoulder = np.degrees(np.cos(angle))\n",
    "                    \n",
    "                    a = pose_landmarks[24]\n",
    "                    b = pose_landmarks[26]\n",
    "                    c = pose_landmarks[28]\n",
    "                    e = a-b\n",
    "                    f = b-c\n",
    "                    angle = np.dot(f,e)\n",
    "                    rknee = np.degrees(np.cos(angle))\n",
    "                    \n",
    "                    a = pose_landmarks[23]\n",
    "                    b = pose_landmarks[25]\n",
    "                    c = pose_landmarks[27]\n",
    "                    e = a-b\n",
    "                    f = b-c\n",
    "                    angle = np.dot(f,e)\n",
    "                    lknee = np.degrees(np.cos(angle))\n",
    "                    \n",
    "                    a = pose_landmarks[26]\n",
    "                    b = (pose_landmarks[24] + pose_landmarks[23])/2\n",
    "                    c = pose_landmarks[25]\n",
    "                    e = a-b\n",
    "                    f = b-c\n",
    "                    angle = np.dot(f,e)\n",
    "                    legs = np.degrees(np.cos(angle))\n",
    "                    \n",
    "                    \n",
    "                    csv_out_writer1.writerow([img, entry, relbow, lelbow, lshoulder, rshoulder, rknee, lknee,legs])\n",
    "                    pose_landmarks = np.around(pose_landmarks, 5).flatten().astype(str).tolist()\n",
    "                    csv_out_writer.writerow([img, entry] + pose_landmarks)\n",
    "                    \n",
    "#                     print([img, entry, relbow, lelbow, lshoulder, rshoulder, rknee, lknee,legs])\n",
    "                    \n",
    "    \n",
    "                    \n",
    "                    \n",
    "                "
   ]
  },
  {
   "cell_type": "code",
   "execution_count": 8,
   "id": "338d3cf6",
   "metadata": {},
   "outputs": [],
   "source": [
    "# def get_center_point(pose_landmarks):\n",
    "#     left_hip = pose_landmarks.landmark[23]\n",
    "#     right_hip = pose_landmarks.landmark[24]\n",
    "#     hip_center_x = (left_hip.x + right_hip.x)*0.5;\n",
    "#     hip_center_y = (left_hip.y + right_hip.y)*0.5;\n",
    "                    \n",
    "#     left_shoulder = pose_landmarks.landmark[11]\n",
    "#     right_shoulder = pose_landmarks.landmark[12]\n",
    "#     shoulder_center_x = (left_shoulder.x + right_shoulder.x)*0.5;\n",
    "#     shoulder_center_y = (left_shoulder.y + right_shoulder.y)*0.5;\n",
    "                    \n",
    "#     torso_center_x = (hip_center_x + shoulder_center_x )*0.5;\n",
    "#     torso_center_y = (hip_center_y + shoulder_center_y )*0.5;\n",
    "\n",
    "#     return torso_center_x, torso_center_y"
   ]
  },
  {
   "cell_type": "code",
   "execution_count": 9,
   "id": "3a952f78",
   "metadata": {},
   "outputs": [],
   "source": [
    "# def normalize(landmarks,pose_center_new):\n",
    "#     d = tf.gather(landmarks - pose_center_new, 0, axis=0,\n",
    "#                 name=\"dist_to_pose_center\")\n",
    "#       # Max dist to pose center\n",
    "#     max_dist = tf.reduce_max(tf.linalg.norm(d, axis=0))\n",
    "\n",
    "#       # Normalize scale\n",
    "#     pose_size = tf.maximum(torso_size * torso_size_multiplier, max_dist)"
   ]
  },
  {
   "cell_type": "code",
   "execution_count": 10,
   "id": "6c19889d",
   "metadata": {},
   "outputs": [],
   "source": [
    "\n",
    "# csv_out_path = 'pose_coordinate.csv'\n",
    "# with open(csv_out_path, 'w') as csv_out_file:\n",
    "#     csv_out_writer = csv.writer(csv_out_file, delimiter=',', quoting=csv.QUOTE_MINIMAL)\n",
    "    \n",
    "#     basepath = 'train'\n",
    "#     for entry in os.listdir(basepath):\n",
    "#         folder_path = os.path.join(basepath, entry)\n",
    "#         for img in os.listdir(folder_path):\n",
    "#             with mp_pose.Pose(min_detection_confidence=0.5, min_tracking_confidence=0.5) as pose:\n",
    "#                 image_path = os.path.join(folder_path,img)\n",
    "#                 image = cv2.imread(image_path)\n",
    "\n",
    "#                 image.flags.writeable = False\n",
    "#                 image = cv2.cvtColor(image,cv2.COLOR_BGR2RGB )\n",
    "#                 result = pose.process(image)\n",
    "#                 pose_landmarks = result.pose_landmarks\n",
    "#                 output_frame = image.copy()\n",
    "                \n",
    "#                 if pose_landmarks is not None:\n",
    "#                     torso_center_x, torso_center_y = get_center_point(pose_landmarks)\n",
    "#                     print(torso_center_x, torso_center_y)\n",
    "# #                     # Check the number of landmarks and take pose landmarks.\n",
    "#                     assert len(pose_landmarks.landmark) == 33, 'Unexpected number of predicted pose landmarks: {}'.format(len(pose_landmarks.landmark))\n",
    "#                     pose_landmarks = [[lmk.x - torso_center_x, lmk.y - torso_center_y, lmk.z] for lmk in pose_landmarks.landmark]\n",
    "\n",
    "#                     # Map pose landmarks from [0, 1] range to absolute coordinates to get\n",
    "#                     # correct aspect ratio.\n",
    "#                     frame_height, frame_width = output_frame.shape[:2]\n",
    "#                     pose_landmarks *= np.array([frame_width, frame_height, frame_width])\n",
    "\n",
    "#                     # Write pose sample to CSV.\n",
    "#                     pose_landmarks = np.around(pose_landmarks, 5).flatten().astype(str).tolist()\n",
    "#                     csv_out_writer.writerow([img, entry] + pose_landmarks)\n",
    "\n"
   ]
  },
  {
   "cell_type": "code",
   "execution_count": 11,
   "id": "863dcc19",
   "metadata": {},
   "outputs": [],
   "source": [
    "\n",
    "# csv_out_path = 'pose_coordinate.csv'\n",
    "# with open(csv_out_path, 'w') as csv_out_file:\n",
    "#     csv_out_writer = csv.writer(csv_out_file, delimiter=',', quoting=csv.QUOTE_MINIMAL)\n",
    "    \n",
    "#     basepath = 'train'\n",
    "#     for entry in os.listdir(basepath):\n",
    "#         folder_path = os.path.join(basepath, entry)\n",
    "#         for img in os.listdir(folder_path):\n",
    "#             with mp_pose.Pose(min_detection_confidence=0.5, min_tracking_confidence=0.5) as pose:\n",
    "#                 image_path = os.path.join(folder_path,img)\n",
    "#                 image = cv2.imread(image_path)\n",
    "\n",
    "#                 image.flags.writeable = False\n",
    "#                 image = cv2.cvtColor(image,cv2.COLOR_BGR2RGB )\n",
    "#                 result = pose.process(image)\n",
    "#                 pose_landmarks = result.pose_landmarks\n",
    "#                 output_frame = image.copy()\n",
    "                \n",
    "#                 if pose_landmarks is not None:\n",
    "# #                     torso_center_x, torso_center_y = get_center_point(pose_landmarks)\n",
    "# #                     print(torso_center_x, torso_center_y)\n",
    "# #                     # Check the number of landmarks and take pose landmarks.\n",
    "#                     assert len(pose_landmarks.landmark) == 33, 'Unexpected number of predicted pose landmarks: {}'.format(len(pose_landmarks.landmark))\n",
    "#                     pose_landmarks = [[lmk.x , lmk.y , lmk.z] for lmk in pose_landmarks.landmark]\n",
    "#                     pose_landmarks = landmarks_to_embedding(pose_landmarks)\n",
    "#                     # Map pose landmarks from [0, 1] range to absolute coordinates to get\n",
    "#                     # correct aspect ratio.\n",
    "#                     frame_height, frame_width = output_frame.shape[:2]\n",
    "#                     pose_landmarks *= np.array([frame_width, frame_height, frame_width])\n",
    "\n",
    "#                     # Write pose sample to CSV.\n",
    "#                     pose_landmarks = np.around(pose_landmarks, 5).flatten().astype(str).tolist()\n",
    "#                     csv_out_writer.writerow([img, entry] + pose_landmarks)\n",
    "\n"
   ]
  },
  {
   "cell_type": "code",
   "execution_count": 4,
   "id": "8164f264",
   "metadata": {},
   "outputs": [],
   "source": [
    "df = pd.read_csv('pose_coordinatenew.csv',names=[x for x in range(101)])"
   ]
  },
  {
   "cell_type": "code",
   "execution_count": 5,
   "id": "2515fa92",
   "metadata": {},
   "outputs": [
    {
     "data": {
      "text/html": [
       "<div>\n",
       "<style scoped>\n",
       "    .dataframe tbody tr th:only-of-type {\n",
       "        vertical-align: middle;\n",
       "    }\n",
       "\n",
       "    .dataframe tbody tr th {\n",
       "        vertical-align: top;\n",
       "    }\n",
       "\n",
       "    .dataframe thead th {\n",
       "        text-align: right;\n",
       "    }\n",
       "</style>\n",
       "<table border=\"1\" class=\"dataframe\">\n",
       "  <thead>\n",
       "    <tr style=\"text-align: right;\">\n",
       "      <th></th>\n",
       "      <th>0</th>\n",
       "      <th>1</th>\n",
       "      <th>2</th>\n",
       "      <th>3</th>\n",
       "      <th>4</th>\n",
       "      <th>5</th>\n",
       "      <th>6</th>\n",
       "      <th>7</th>\n",
       "      <th>8</th>\n",
       "      <th>9</th>\n",
       "      <th>...</th>\n",
       "      <th>91</th>\n",
       "      <th>92</th>\n",
       "      <th>93</th>\n",
       "      <th>94</th>\n",
       "      <th>95</th>\n",
       "      <th>96</th>\n",
       "      <th>97</th>\n",
       "      <th>98</th>\n",
       "      <th>99</th>\n",
       "      <th>100</th>\n",
       "    </tr>\n",
       "  </thead>\n",
       "  <tbody>\n",
       "    <tr>\n",
       "      <th>0</th>\n",
       "      <td>girl1_chair070.jpg</td>\n",
       "      <td>chair</td>\n",
       "      <td>161.93193</td>\n",
       "      <td>91.50034</td>\n",
       "      <td>-113.45271</td>\n",
       "      <td>161.39712</td>\n",
       "      <td>86.31226</td>\n",
       "      <td>-106.83022</td>\n",
       "      <td>161.58342</td>\n",
       "      <td>86.05865</td>\n",
       "      <td>...</td>\n",
       "      <td>151.52425</td>\n",
       "      <td>145.37344</td>\n",
       "      <td>263.04284</td>\n",
       "      <td>35.51275</td>\n",
       "      <td>164.25312</td>\n",
       "      <td>266.42942</td>\n",
       "      <td>134.10185</td>\n",
       "      <td>161.96825</td>\n",
       "      <td>272.50385</td>\n",
       "      <td>2.88960</td>\n",
       "    </tr>\n",
       "    <tr>\n",
       "      <th>1</th>\n",
       "      <td>girl1_chair070_flipped.jpg</td>\n",
       "      <td>chair</td>\n",
       "      <td>139.86855</td>\n",
       "      <td>91.82668</td>\n",
       "      <td>-104.83980</td>\n",
       "      <td>143.78042</td>\n",
       "      <td>87.16641</td>\n",
       "      <td>-108.79897</td>\n",
       "      <td>145.48917</td>\n",
       "      <td>87.27382</td>\n",
       "      <td>...</td>\n",
       "      <td>48.08073</td>\n",
       "      <td>150.45469</td>\n",
       "      <td>237.26957</td>\n",
       "      <td>172.43419</td>\n",
       "      <td>138.36648</td>\n",
       "      <td>272.82157</td>\n",
       "      <td>21.53601</td>\n",
       "      <td>134.58295</td>\n",
       "      <td>257.23835</td>\n",
       "      <td>168.02629</td>\n",
       "    </tr>\n",
       "    <tr>\n",
       "      <th>2</th>\n",
       "      <td>girl1_chair075.jpg</td>\n",
       "      <td>chair</td>\n",
       "      <td>167.14772</td>\n",
       "      <td>99.77740</td>\n",
       "      <td>-93.39951</td>\n",
       "      <td>166.52445</td>\n",
       "      <td>95.02889</td>\n",
       "      <td>-87.08542</td>\n",
       "      <td>166.49821</td>\n",
       "      <td>94.65935</td>\n",
       "      <td>...</td>\n",
       "      <td>133.62957</td>\n",
       "      <td>146.21243</td>\n",
       "      <td>266.85129</td>\n",
       "      <td>35.65139</td>\n",
       "      <td>168.46964</td>\n",
       "      <td>268.35528</td>\n",
       "      <td>129.69736</td>\n",
       "      <td>168.64370</td>\n",
       "      <td>275.69879</td>\n",
       "      <td>28.96146</td>\n",
       "    </tr>\n",
       "    <tr>\n",
       "      <th>3</th>\n",
       "      <td>girl1_chair075_flipped.jpg</td>\n",
       "      <td>chair</td>\n",
       "      <td>136.16109</td>\n",
       "      <td>100.78100</td>\n",
       "      <td>-76.01230</td>\n",
       "      <td>139.12286</td>\n",
       "      <td>96.90815</td>\n",
       "      <td>-79.26770</td>\n",
       "      <td>140.43436</td>\n",
       "      <td>96.86092</td>\n",
       "      <td>...</td>\n",
       "      <td>-41.07904</td>\n",
       "      <td>145.33850</td>\n",
       "      <td>236.36127</td>\n",
       "      <td>128.01884</td>\n",
       "      <td>133.34532</td>\n",
       "      <td>273.72544</td>\n",
       "      <td>-64.76517</td>\n",
       "      <td>132.31215</td>\n",
       "      <td>257.97881</td>\n",
       "      <td>127.25959</td>\n",
       "    </tr>\n",
       "    <tr>\n",
       "      <th>4</th>\n",
       "      <td>girl1_chair076.jpg</td>\n",
       "      <td>chair</td>\n",
       "      <td>168.41848</td>\n",
       "      <td>104.34607</td>\n",
       "      <td>-96.49125</td>\n",
       "      <td>168.76974</td>\n",
       "      <td>99.73064</td>\n",
       "      <td>-89.25885</td>\n",
       "      <td>169.08849</td>\n",
       "      <td>99.53190</td>\n",
       "      <td>...</td>\n",
       "      <td>119.36260</td>\n",
       "      <td>146.60322</td>\n",
       "      <td>268.53570</td>\n",
       "      <td>22.31681</td>\n",
       "      <td>169.18559</td>\n",
       "      <td>264.90762</td>\n",
       "      <td>118.56466</td>\n",
       "      <td>172.15129</td>\n",
       "      <td>276.03448</td>\n",
       "      <td>13.66442</td>\n",
       "    </tr>\n",
       "  </tbody>\n",
       "</table>\n",
       "<p>5 rows × 101 columns</p>\n",
       "</div>"
      ],
      "text/plain": [
       "                          0      1          2          3          4    \\\n",
       "0          girl1_chair070.jpg  chair  161.93193   91.50034 -113.45271   \n",
       "1  girl1_chair070_flipped.jpg  chair  139.86855   91.82668 -104.83980   \n",
       "2          girl1_chair075.jpg  chair  167.14772   99.77740  -93.39951   \n",
       "3  girl1_chair075_flipped.jpg  chair  136.16109  100.78100  -76.01230   \n",
       "4          girl1_chair076.jpg  chair  168.41848  104.34607  -96.49125   \n",
       "\n",
       "         5         6          7          8         9    ...        91   \\\n",
       "0  161.39712  86.31226 -106.83022  161.58342  86.05865  ...  151.52425   \n",
       "1  143.78042  87.16641 -108.79897  145.48917  87.27382  ...   48.08073   \n",
       "2  166.52445  95.02889  -87.08542  166.49821  94.65935  ...  133.62957   \n",
       "3  139.12286  96.90815  -79.26770  140.43436  96.86092  ...  -41.07904   \n",
       "4  168.76974  99.73064  -89.25885  169.08849  99.53190  ...  119.36260   \n",
       "\n",
       "         92         93         94         95         96         97   \\\n",
       "0  145.37344  263.04284   35.51275  164.25312  266.42942  134.10185   \n",
       "1  150.45469  237.26957  172.43419  138.36648  272.82157   21.53601   \n",
       "2  146.21243  266.85129   35.65139  168.46964  268.35528  129.69736   \n",
       "3  145.33850  236.36127  128.01884  133.34532  273.72544  -64.76517   \n",
       "4  146.60322  268.53570   22.31681  169.18559  264.90762  118.56466   \n",
       "\n",
       "         98         99         100  \n",
       "0  161.96825  272.50385    2.88960  \n",
       "1  134.58295  257.23835  168.02629  \n",
       "2  168.64370  275.69879   28.96146  \n",
       "3  132.31215  257.97881  127.25959  \n",
       "4  172.15129  276.03448   13.66442  \n",
       "\n",
       "[5 rows x 101 columns]"
      ]
     },
     "execution_count": 5,
     "metadata": {},
     "output_type": "execute_result"
    }
   ],
   "source": [
    "df.head()"
   ]
  },
  {
   "cell_type": "code",
   "execution_count": 6,
   "id": "70ff6e25",
   "metadata": {},
   "outputs": [
    {
     "data": {
      "text/plain": [
       "(2544, 101)"
      ]
     },
     "execution_count": 6,
     "metadata": {},
     "output_type": "execute_result"
    }
   ],
   "source": [
    "df.shape"
   ]
  },
  {
   "cell_type": "code",
   "execution_count": 7,
   "id": "25b00006",
   "metadata": {},
   "outputs": [
    {
     "data": {
      "text/plain": [
       "Int64Index([  0,   1,   2,   3,   4,   5,   6,   7,   8,   9,\n",
       "            ...\n",
       "             91,  92,  93,  94,  95,  96,  97,  98,  99, 100],\n",
       "           dtype='int64', length=101)"
      ]
     },
     "execution_count": 7,
     "metadata": {},
     "output_type": "execute_result"
    }
   ],
   "source": [
    "df.columns"
   ]
  },
  {
   "cell_type": "code",
   "execution_count": 8,
   "id": "8f5ed876",
   "metadata": {},
   "outputs": [],
   "source": [
    "df.drop(0,axis=1,inplace=True)"
   ]
  },
  {
   "cell_type": "code",
   "execution_count": 9,
   "id": "891207c6",
   "metadata": {},
   "outputs": [
    {
     "data": {
      "text/plain": [
       "array([[ 161.93193,   91.50034, -113.45271, ...,  161.96825,  272.50385,\n",
       "           2.8896 ],\n",
       "       [ 139.86855,   91.82668, -104.8398 , ...,  134.58295,  257.23835,\n",
       "         168.02629],\n",
       "       [ 167.14772,   99.7774 ,  -93.39951, ...,  168.6437 ,  275.69879,\n",
       "          28.96146],\n",
       "       ...,\n",
       "       [ 160.03075,  101.21098, -275.6927 , ...,  169.06106,   76.79547,\n",
       "          44.96757],\n",
       "       [ 135.92988,   85.11297, -182.00737, ...,  134.54167,  275.22699,\n",
       "          46.33296],\n",
       "       [ 164.71746,   97.26677, -219.01392, ...,  180.18463,  104.69069,\n",
       "         416.26228]])"
      ]
     },
     "execution_count": 9,
     "metadata": {},
     "output_type": "execute_result"
    }
   ],
   "source": [
    "df.iloc[:,1:].values"
   ]
  },
  {
   "cell_type": "code",
   "execution_count": 10,
   "id": "71e7b56a",
   "metadata": {},
   "outputs": [],
   "source": [
    "x = df.iloc[:,1:].values"
   ]
  },
  {
   "cell_type": "code",
   "execution_count": 11,
   "id": "68ee93f9",
   "metadata": {},
   "outputs": [],
   "source": [
    "lis = [x for x in df[1]]"
   ]
  },
  {
   "cell_type": "code",
   "execution_count": 12,
   "id": "26dfc56e",
   "metadata": {},
   "outputs": [],
   "source": [
    "le = LabelEncoder()"
   ]
  },
  {
   "cell_type": "code",
   "execution_count": 13,
   "id": "04042b0a",
   "metadata": {},
   "outputs": [
    {
     "data": {
      "text/plain": [
       "LabelEncoder()"
      ]
     },
     "execution_count": 13,
     "metadata": {},
     "output_type": "execute_result"
    }
   ],
   "source": [
    "le.fit(df[1])"
   ]
  },
  {
   "cell_type": "code",
   "execution_count": 14,
   "id": "098c2805",
   "metadata": {},
   "outputs": [],
   "source": [
    "lis = le.transform(df[1])"
   ]
  },
  {
   "cell_type": "code",
   "execution_count": 15,
   "id": "0f55a412",
   "metadata": {},
   "outputs": [
    {
     "data": {
      "text/plain": [
       "array(['chair', 'cobra', 'dog', 'no_pose', 'shoudler_stand', 'traingle',\n",
       "       'tree', 'warrior', 'warrior Balanced'], dtype=object)"
      ]
     },
     "execution_count": 15,
     "metadata": {},
     "output_type": "execute_result"
    }
   ],
   "source": [
    "df[1].unique()"
   ]
  },
  {
   "cell_type": "code",
   "execution_count": 16,
   "id": "44023fc9",
   "metadata": {},
   "outputs": [
    {
     "data": {
      "text/plain": [
       "array([0, 0, 0, ..., 8, 8, 8])"
      ]
     },
     "execution_count": 16,
     "metadata": {},
     "output_type": "execute_result"
    }
   ],
   "source": [
    "lis"
   ]
  },
  {
   "cell_type": "code",
   "execution_count": 17,
   "id": "ec41e826",
   "metadata": {},
   "outputs": [],
   "source": [
    "import keras"
   ]
  },
  {
   "cell_type": "code",
   "execution_count": 18,
   "id": "a8892c41",
   "metadata": {},
   "outputs": [],
   "source": [
    "y = keras.utils.to_categorical(lis,num_classes=9)"
   ]
  },
  {
   "cell_type": "code",
   "execution_count": 20,
   "id": "e3332596",
   "metadata": {},
   "outputs": [
    {
     "data": {
      "text/plain": [
       "(2544, 9)"
      ]
     },
     "execution_count": 20,
     "metadata": {},
     "output_type": "execute_result"
    }
   ],
   "source": [
    "y.shape"
   ]
  },
  {
   "cell_type": "code",
   "execution_count": 21,
   "id": "38fbce93",
   "metadata": {},
   "outputs": [],
   "source": [
    "from sklearn.model_selection import train_test_split"
   ]
  },
  {
   "cell_type": "code",
   "execution_count": 22,
   "id": "bd3b4fbb",
   "metadata": {},
   "outputs": [],
   "source": [
    "x_train, x_test, y_train, y_test = train_test_split(x,y,random_state=42)"
   ]
  },
  {
   "cell_type": "code",
   "execution_count": 23,
   "id": "c5fc752a",
   "metadata": {},
   "outputs": [
    {
     "data": {
      "text/plain": [
       "(1908, 99)"
      ]
     },
     "execution_count": 23,
     "metadata": {},
     "output_type": "execute_result"
    }
   ],
   "source": [
    "x_train.shape"
   ]
  },
  {
   "cell_type": "code",
   "execution_count": 24,
   "id": "844ecb37",
   "metadata": {},
   "outputs": [],
   "source": [
    "from keras.layers import Dense, Dropout\n",
    "from keras.models import Sequential"
   ]
  },
  {
   "cell_type": "code",
   "execution_count": 25,
   "id": "ceb26249",
   "metadata": {},
   "outputs": [
    {
     "data": {
      "text/plain": [
       "(2544, 99)"
      ]
     },
     "execution_count": 25,
     "metadata": {},
     "output_type": "execute_result"
    }
   ],
   "source": [
    "x.shape"
   ]
  },
  {
   "cell_type": "code",
   "execution_count": 26,
   "id": "dad59e02",
   "metadata": {},
   "outputs": [
    {
     "name": "stdout",
     "output_type": "stream",
     "text": [
      "Model: \"sequential\"\n",
      "_________________________________________________________________\n",
      " Layer (type)                Output Shape              Param #   \n",
      "=================================================================\n",
      " dense (Dense)               (None, 256)               25600     \n",
      "                                                                 \n",
      " dropout (Dropout)           (None, 256)               0         \n",
      "                                                                 \n",
      " dense_1 (Dense)             (None, 128)               32896     \n",
      "                                                                 \n",
      " dropout_1 (Dropout)         (None, 128)               0         \n",
      "                                                                 \n",
      " dense_2 (Dense)             (None, 64)                8256      \n",
      "                                                                 \n",
      " dense_3 (Dense)             (None, 9)                 585       \n",
      "                                                                 \n",
      "=================================================================\n",
      "Total params: 67,337\n",
      "Trainable params: 67,337\n",
      "Non-trainable params: 0\n",
      "_________________________________________________________________\n"
     ]
    }
   ],
   "source": [
    "model = Sequential()\n",
    "model.add(Dense(256, activation='relu', input_dim=x.shape[1]))\n",
    "model.add(Dropout(.2))\n",
    "model.add(Dense(128, activation='relu'))\n",
    "model.add(Dropout(.2))\n",
    "model.add(Dense(64, activation='relu'))\n",
    "model.add(Dense(y.shape[1], activation='softmax'))\n",
    "model.compile(optimizer='adam', loss='categorical_crossentropy', metrics=['accuracy'])\n",
    "model.summary()"
   ]
  },
  {
   "cell_type": "code",
   "execution_count": 27,
   "id": "39616c18",
   "metadata": {},
   "outputs": [],
   "source": [
    "callback = keras.callbacks.EarlyStopping(monitor='loss', patience=20, min_delta =0.1 ,restore_best_weights=True)"
   ]
  },
  {
   "cell_type": "code",
   "execution_count": 28,
   "id": "25a0031b",
   "metadata": {},
   "outputs": [
    {
     "name": "stdout",
     "output_type": "stream",
     "text": [
      "Epoch 1/1000\n",
      "77/77 [==============================] - 2s 4ms/step - loss: 28.7162 - accuracy: 0.3716\n",
      "Epoch 2/1000\n",
      "77/77 [==============================] - 0s 4ms/step - loss: 7.0765 - accuracy: 0.5168\n",
      "Epoch 3/1000\n",
      "77/77 [==============================] - 0s 4ms/step - loss: 3.9343 - accuracy: 0.5828\n",
      "Epoch 4/1000\n",
      "77/77 [==============================] - 0s 5ms/step - loss: 2.6091 - accuracy: 0.6483\n",
      "Epoch 5/1000\n",
      "77/77 [==============================] - 0s 5ms/step - loss: 2.2997 - accuracy: 0.6677\n",
      "Epoch 6/1000\n",
      "77/77 [==============================] - 0s 5ms/step - loss: 1.8314 - accuracy: 0.6855\n",
      "Epoch 7/1000\n",
      "77/77 [==============================] - 0s 5ms/step - loss: 1.3718 - accuracy: 0.7233\n",
      "Epoch 8/1000\n",
      "77/77 [==============================] - 0s 4ms/step - loss: 1.3078 - accuracy: 0.7369\n",
      "Epoch 9/1000\n",
      "77/77 [==============================] - 0s 5ms/step - loss: 1.0540 - accuracy: 0.7537\n",
      "Epoch 10/1000\n",
      "77/77 [==============================] - 0s 5ms/step - loss: 0.9563 - accuracy: 0.7668\n",
      "Epoch 11/1000\n",
      "77/77 [==============================] - 0s 4ms/step - loss: 1.0032 - accuracy: 0.7710\n",
      "Epoch 12/1000\n",
      "77/77 [==============================] - 0s 4ms/step - loss: 0.9820 - accuracy: 0.7573\n",
      "Epoch 13/1000\n",
      "77/77 [==============================] - 0s 4ms/step - loss: 0.7873 - accuracy: 0.7951\n",
      "Epoch 14/1000\n",
      "77/77 [==============================] - 0s 4ms/step - loss: 0.6545 - accuracy: 0.8328\n",
      "Epoch 15/1000\n",
      "77/77 [==============================] - 0s 5ms/step - loss: 0.5756 - accuracy: 0.8360\n",
      "Epoch 16/1000\n",
      "77/77 [==============================] - 0s 5ms/step - loss: 0.6217 - accuracy: 0.8333\n",
      "Epoch 17/1000\n",
      "77/77 [==============================] - 0s 5ms/step - loss: 0.9569 - accuracy: 0.7872\n",
      "Epoch 18/1000\n",
      "77/77 [==============================] - 0s 5ms/step - loss: 0.6067 - accuracy: 0.8386\n",
      "Epoch 19/1000\n",
      "77/77 [==============================] - 0s 5ms/step - loss: 0.5120 - accuracy: 0.8496\n",
      "Epoch 20/1000\n",
      "77/77 [==============================] - 0s 4ms/step - loss: 0.4443 - accuracy: 0.8695\n",
      "Epoch 21/1000\n",
      "77/77 [==============================] - 0s 6ms/step - loss: 0.4125 - accuracy: 0.8789\n",
      "Epoch 22/1000\n",
      "77/77 [==============================] - 0s 6ms/step - loss: 0.5252 - accuracy: 0.8637\n",
      "Epoch 23/1000\n",
      "77/77 [==============================] - 0s 6ms/step - loss: 0.5883 - accuracy: 0.8470\n",
      "Epoch 24/1000\n",
      "77/77 [==============================] - 0s 6ms/step - loss: 0.4549 - accuracy: 0.8632\n",
      "Epoch 25/1000\n",
      "77/77 [==============================] - 0s 6ms/step - loss: 0.4304 - accuracy: 0.8742\n",
      "Epoch 26/1000\n",
      "77/77 [==============================] - 0s 5ms/step - loss: 0.5855 - accuracy: 0.8449\n",
      "Epoch 27/1000\n",
      "77/77 [==============================] - 0s 5ms/step - loss: 0.5312 - accuracy: 0.8637\n",
      "Epoch 28/1000\n",
      "77/77 [==============================] - 0s 4ms/step - loss: 0.5014 - accuracy: 0.8690\n",
      "Epoch 29/1000\n",
      "77/77 [==============================] - 0s 4ms/step - loss: 0.5394 - accuracy: 0.8559\n",
      "Epoch 30/1000\n",
      "77/77 [==============================] - 0s 5ms/step - loss: 0.3359 - accuracy: 0.8994\n",
      "Epoch 31/1000\n",
      "77/77 [==============================] - 0s 5ms/step - loss: 0.3660 - accuracy: 0.8920\n",
      "Epoch 32/1000\n",
      "77/77 [==============================] - 0s 5ms/step - loss: 0.4096 - accuracy: 0.8884\n",
      "Epoch 33/1000\n",
      "77/77 [==============================] - 0s 5ms/step - loss: 0.4541 - accuracy: 0.8721\n",
      "Epoch 34/1000\n",
      "77/77 [==============================] - 0s 5ms/step - loss: 0.4778 - accuracy: 0.8637\n",
      "Epoch 35/1000\n",
      "77/77 [==============================] - 0s 4ms/step - loss: 0.3507 - accuracy: 0.9009\n",
      "Epoch 36/1000\n",
      "77/77 [==============================] - 0s 4ms/step - loss: 0.3204 - accuracy: 0.9072\n",
      "Epoch 37/1000\n",
      "77/77 [==============================] - 0s 4ms/step - loss: 0.3401 - accuracy: 0.9051\n",
      "Epoch 38/1000\n",
      "77/77 [==============================] - 0s 4ms/step - loss: 0.3381 - accuracy: 0.8957\n",
      "Epoch 39/1000\n",
      "77/77 [==============================] - 0s 4ms/step - loss: 0.3566 - accuracy: 0.8936\n",
      "Epoch 40/1000\n",
      "77/77 [==============================] - 0s 4ms/step - loss: 0.3433 - accuracy: 0.8952\n",
      "Epoch 41/1000\n",
      "77/77 [==============================] - 0s 5ms/step - loss: 0.4278 - accuracy: 0.8821\n",
      "Epoch 42/1000\n",
      "77/77 [==============================] - 0s 4ms/step - loss: 0.3659 - accuracy: 0.8905\n",
      "Epoch 43/1000\n",
      "77/77 [==============================] - 0s 4ms/step - loss: 0.3618 - accuracy: 0.8973\n",
      "Epoch 44/1000\n",
      "77/77 [==============================] - 0s 4ms/step - loss: 0.2808 - accuracy: 0.9203\n",
      "Epoch 45/1000\n",
      "77/77 [==============================] - 0s 4ms/step - loss: 0.3172 - accuracy: 0.9109\n",
      "Epoch 46/1000\n",
      "77/77 [==============================] - 0s 4ms/step - loss: 0.2893 - accuracy: 0.9198\n",
      "Epoch 47/1000\n",
      "77/77 [==============================] - 0s 4ms/step - loss: 0.3054 - accuracy: 0.9271\n",
      "Epoch 48/1000\n",
      "77/77 [==============================] - 0s 4ms/step - loss: 0.4797 - accuracy: 0.8852\n",
      "Epoch 49/1000\n",
      "77/77 [==============================] - 0s 4ms/step - loss: 0.3304 - accuracy: 0.9036\n",
      "Epoch 50/1000\n",
      "77/77 [==============================] - 0s 4ms/step - loss: 0.3651 - accuracy: 0.8947\n"
     ]
    }
   ],
   "source": [
    "history = model.fit(x_train, y_train, batch_size=25,epochs=1000,callbacks=[callback])"
   ]
  },
  {
   "cell_type": "code",
   "execution_count": 29,
   "id": "5c6ca755",
   "metadata": {},
   "outputs": [
    {
     "name": "stdout",
     "output_type": "stream",
     "text": [
      "20/20 [==============================] - 0s 2ms/step\n"
     ]
    },
    {
     "data": {
      "text/plain": [
       "array([[8.9437103e-01, 7.0804870e-04, 5.3343328e-04, ..., 3.7694857e-02,\n",
       "        5.4284845e-02, 4.8834793e-03],\n",
       "       [1.4605747e-11, 1.6393482e-08, 1.2122202e-11, ..., 1.1202080e-14,\n",
       "        7.1319104e-14, 1.0000000e+00],\n",
       "       [3.1048225e-04, 2.5440164e-05, 1.1448844e-04, ..., 9.9343771e-01,\n",
       "        3.8744516e-03, 1.2433162e-03],\n",
       "       ...,\n",
       "       [2.6045620e-06, 6.1236118e-05, 9.9775451e-01, ..., 1.8561281e-08,\n",
       "        3.9168464e-07, 2.1715204e-03],\n",
       "       [6.8166492e-12, 2.7499211e-10, 1.1818849e-14, ..., 9.7430134e-14,\n",
       "        9.9980134e-01, 8.0560444e-13],\n",
       "       [2.5064632e-02, 1.0041831e-02, 6.6758674e-03, ..., 8.4104604e-01,\n",
       "        3.4845848e-02, 3.1131707e-02]], dtype=float32)"
      ]
     },
     "execution_count": 29,
     "metadata": {},
     "output_type": "execute_result"
    }
   ],
   "source": [
    "model.predict(x_test)"
   ]
  },
  {
   "cell_type": "code",
   "execution_count": 30,
   "id": "419f06dc",
   "metadata": {},
   "outputs": [
    {
     "name": "stdout",
     "output_type": "stream",
     "text": [
      "20/20 [==============================] - 0s 3ms/step - loss: 0.3189 - accuracy: 0.9481\n"
     ]
    },
    {
     "data": {
      "text/plain": [
       "[0.3189307451248169, 0.948113203048706]"
      ]
     },
     "execution_count": 30,
     "metadata": {},
     "output_type": "execute_result"
    }
   ],
   "source": [
    "model.evaluate(x_test,y_test)"
   ]
  },
  {
   "cell_type": "code",
   "execution_count": 31,
   "id": "1e180ebd",
   "metadata": {},
   "outputs": [
    {
     "data": {
      "text/plain": [
       "[array([[-0.09492233, -0.08835081, -0.06444798, ..., -0.0288044 ,\n",
       "          0.00386744,  0.10607471],\n",
       "        [-0.03674482, -0.04983445, -0.13752174, ...,  0.0183366 ,\n",
       "          0.06757146, -0.11877972],\n",
       "        [-0.05134505, -0.07668603,  0.13307507, ..., -0.10627155,\n",
       "          0.10791592, -0.12384898],\n",
       "        ...,\n",
       "        [-0.00961717, -0.11519805,  0.14341463, ...,  0.10264196,\n",
       "         -0.10851911, -0.04857549],\n",
       "        [ 0.0621338 ,  0.08883914,  0.10518128, ...,  0.01444143,\n",
       "          0.12773368, -0.09498715],\n",
       "        [-0.06026208,  0.08084305, -0.0836506 , ...,  0.05884588,\n",
       "         -0.04812075,  0.04536082]], dtype=float32),\n",
       " array([-0.04900849, -0.0220795 ,  0.0637596 , -0.02359999,  0.00812366,\n",
       "         0.01901092, -0.00142578, -0.02597215,  0.05285602, -0.04182245,\n",
       "         0.01582214,  0.01590618, -0.04606887, -0.02018164, -0.01638631,\n",
       "         0.00757577, -0.01756559, -0.04810071, -0.01825904,  0.        ,\n",
       "        -0.01351967, -0.05332926, -0.03972177, -0.009439  ,  0.03742767,\n",
       "        -0.02407872, -0.05532815,  0.00888478, -0.00382641, -0.01510484,\n",
       "         0.01773949, -0.03439113, -0.01488822,  0.00654524, -0.01282603,\n",
       "        -0.086082  ,  0.00867715,  0.02370244,  0.0973311 , -0.01022112,\n",
       "         0.0270174 ,  0.        , -0.00534604, -0.00972693,  0.00477683,\n",
       "        -0.01484784, -0.01385366, -0.01261826, -0.00836816,  0.00412032,\n",
       "        -0.03038257,  0.0095856 ,  0.01095453, -0.00681127, -0.03048866,\n",
       "        -0.01383288, -0.00511394, -0.0482535 , -0.03609779, -0.02190072,\n",
       "        -0.01509676, -0.02720981,  0.00867633,  0.00221807,  0.01781673,\n",
       "        -0.01022201, -0.01364521, -0.0093383 , -0.01496287, -0.07171077,\n",
       "        -0.04588951, -0.002948  ,  0.04500442, -0.10288568, -0.04298935,\n",
       "        -0.01342096,  0.01462795, -0.02642651, -0.00391871, -0.00637042,\n",
       "        -0.02655909, -0.01051758, -0.00470317,  0.        , -0.0065852 ,\n",
       "         0.00133838, -0.00712418,  0.        , -0.01158617, -0.05245626,\n",
       "         0.02455523, -0.00598001, -0.0669546 , -0.00989025, -0.02067802,\n",
       "         0.04055716, -0.01719601,  0.05716676, -0.00412668, -0.01744072,\n",
       "         0.01038013, -0.01334458, -0.00628556, -0.00296152, -0.02990029,\n",
       "        -0.11769287, -0.00022355, -0.00638291, -0.0067921 , -0.00663319,\n",
       "         0.00027812, -0.01209793, -0.02703789,  0.04613705,  0.15379648,\n",
       "        -0.09912907, -0.00825939,  0.09555864, -0.04469248, -0.00072355,\n",
       "        -0.00703113, -0.00279771,  0.01279712,  0.05690094,  0.16833685,\n",
       "        -0.03804679, -0.04278371, -0.01251102, -0.01772522, -0.02010443,\n",
       "        -0.03491272,  0.02373922, -0.01123346,  0.01638257, -0.01252972,\n",
       "         0.07429556, -0.08205789, -0.00434383, -0.01366163,  0.0575028 ,\n",
       "         0.00706354, -0.01621319, -0.00901902,  0.0208806 , -0.02392924,\n",
       "        -0.03720128,  0.01392452, -0.01507793, -0.00887461, -0.00319287,\n",
       "        -0.08404023, -0.1145186 ,  0.05761155, -0.00703684, -0.02642806,\n",
       "        -0.00314048,  0.00738416,  0.10500794,  0.00164767, -0.05951195,\n",
       "        -0.00753698, -0.0051419 , -0.00671209,  0.01858556, -0.01493324,\n",
       "        -0.0137685 , -0.00803774, -0.00599704,  0.00183605, -0.01867932,\n",
       "        -0.02409919, -0.05572561,  0.        , -0.00501718, -0.00955572,\n",
       "         0.02855341, -0.00059838, -0.01924516, -0.00945477, -0.00555497,\n",
       "        -0.00819116,  0.01200766, -0.00528327, -0.0112438 ,  0.01353746,\n",
       "        -0.01221948, -0.00530224, -0.00237655, -0.00433463, -0.01722244,\n",
       "         0.02138221, -0.01942794,  0.02236322, -0.00337664, -0.01786675,\n",
       "        -0.0290776 ,  0.08844698,  0.01333856, -0.02844975, -0.06963909,\n",
       "         0.04467851, -0.00898284, -0.02233441,  0.01252672, -0.01579718,\n",
       "         0.00537271, -0.05274478,  0.05399847, -0.01043615, -0.01457984,\n",
       "        -0.02179419, -0.01014506,  0.        , -0.0163711 ,  0.12422976,\n",
       "        -0.00456919, -0.01159451, -0.04803539, -0.04379281, -0.06103408,\n",
       "        -0.1338593 , -0.12497367, -0.02561966, -0.10259164, -0.13807976,\n",
       "        -0.0060609 ,  0.0332047 ,  0.00252591, -0.00798698,  0.0319068 ,\n",
       "        -0.02649853, -0.02662554, -0.0199318 ,  0.0441759 ,  0.00928741,\n",
       "         0.00175717, -0.01871998, -0.01645097, -0.02287994, -0.00555589,\n",
       "         0.02593288, -0.01182097, -0.0456151 , -0.00818869, -0.12774919,\n",
       "        -0.04049714, -0.0119713 , -0.01097274,  0.01515782,  0.00095092,\n",
       "        -0.01354609,  0.03601062, -0.01461714, -0.04286926,  0.02606956,\n",
       "         0.01779969], dtype=float32),\n",
       " array([[ 0.14271542, -0.07370615, -0.11264411, ...,  0.02828315,\n",
       "         -0.00358562,  0.06518203],\n",
       "        [-0.00815848,  0.08041204,  0.01137516, ..., -0.05973689,\n",
       "          0.08596247,  0.07964491],\n",
       "        [ 0.03422248, -0.06722596, -0.10393415, ...,  0.0446749 ,\n",
       "         -0.14969458,  0.03805159],\n",
       "        ...,\n",
       "        [ 0.00844304,  0.00584369,  0.01385133, ..., -0.00955884,\n",
       "         -0.03609037,  0.03637411],\n",
       "        [-0.0458539 , -0.12162267, -0.02481851, ..., -0.01902477,\n",
       "         -0.02866006,  0.12019834],\n",
       "        [-0.09129857, -0.0895884 , -0.02306195, ..., -0.05076756,\n",
       "          0.02912822, -0.08397397]], dtype=float32),\n",
       " array([ 0.11542051, -0.0349996 , -0.08344928, -0.14481011,  0.05098694,\n",
       "         0.06139252, -0.02533505, -0.07616664, -0.0009617 , -0.12221757,\n",
       "         0.20095068,  0.02942176,  0.00467585,  0.03104139,  0.07503432,\n",
       "        -0.01391789, -0.09090723, -0.12845433,  0.03032019, -0.07412538,\n",
       "        -0.17747849,  0.02123369,  0.00511513, -0.02828171,  0.00463002,\n",
       "        -0.04245802, -0.03125536,  0.0073942 , -0.00247862, -0.00229527,\n",
       "        -0.11819018, -0.02128154, -0.234122  , -0.16406469, -0.11688188,\n",
       "         0.04598587, -0.07535627,  0.01846147, -0.05350243, -0.17554691,\n",
       "        -0.08924351,  0.02982474, -0.05748776, -0.0695466 , -0.15835372,\n",
       "         0.08376347,  0.06249131, -0.09545197,  0.02172615, -0.19837503,\n",
       "        -0.27700025, -0.01144199, -0.1483776 , -0.17599446, -0.13801435,\n",
       "         0.0005283 , -0.04557637, -0.16625752,  0.01274664, -0.07439811,\n",
       "        -0.05845246, -0.09168006, -0.09648707, -0.03466409, -0.07761086,\n",
       "        -0.13228582, -0.0141644 , -0.07377721, -0.09366593,  0.00052703,\n",
       "        -0.20144552, -0.08203019, -0.1592427 , -0.02063512, -0.06006099,\n",
       "        -0.00413249, -0.11443289,  0.01818767, -0.12608007, -0.14179443,\n",
       "        -0.099156  , -0.0907232 , -0.19855298, -0.16836734, -0.1237536 ,\n",
       "         0.12617745, -0.09424225, -0.03665772,  0.02108647, -0.06923394,\n",
       "         0.17761315, -0.03890587, -0.14054662, -0.1302862 , -0.14991786,\n",
       "        -0.02972162, -0.15736899, -0.05066432,  0.26714984,  0.00100332,\n",
       "        -0.01880476, -0.01588722, -0.09443586, -0.02690083, -0.01032113,\n",
       "         0.04683367,  0.01716293, -0.06960765, -0.13254456,  0.04591515,\n",
       "        -0.07596641, -0.04432936,  0.18389381,  0.08158151, -0.05653409,\n",
       "        -0.04848552,  0.13798374, -0.03642598, -0.05712046, -0.05258784,\n",
       "         0.03725303, -0.04228197, -0.11084466, -0.00488176, -0.16877596,\n",
       "        -0.046003  , -0.14402369, -0.04867796], dtype=float32),\n",
       " array([[-0.03004475, -0.1507259 , -0.01760651, ..., -0.03819058,\n",
       "          0.17675854,  0.06530482],\n",
       "        [ 0.08523361,  0.07996608, -0.18516336, ...,  0.10558698,\n",
       "          0.01996818,  0.02876447],\n",
       "        [-0.10875844, -0.15242061, -0.16229206, ..., -0.1264671 ,\n",
       "         -0.06320095,  0.18322274],\n",
       "        ...,\n",
       "        [ 0.0549654 ,  0.02256624, -0.0233411 , ...,  0.06205084,\n",
       "          0.05128124, -0.01430279],\n",
       "        [ 0.07813222,  0.07121935,  0.18217088, ..., -0.15368864,\n",
       "         -0.08121135,  0.05929062],\n",
       "        [ 0.13966238,  0.12754492, -0.09538156, ...,  0.08996355,\n",
       "         -0.12677288,  0.06748143]], dtype=float32),\n",
       " array([-0.06998017, -0.28317186, -0.45917124, -0.16191241,  0.25965375,\n",
       "        -0.08537133, -0.41147983, -0.03022193, -0.07993964,  0.20291564,\n",
       "        -0.01725669, -0.44220856,  0.30072692, -0.05212168,  0.39777505,\n",
       "        -0.6636173 ,  0.02573339, -0.20357968,  0.30361065, -0.02800515,\n",
       "        -0.10577105, -0.22471403, -0.3461442 , -0.3301682 ,  0.18781295,\n",
       "        -0.10262345, -0.05656245, -0.05276762,  0.35009003, -0.19615988,\n",
       "         0.7060019 , -0.07592335,  0.2888883 , -0.05413744,  0.09927208,\n",
       "        -0.03107739, -0.01850853,  0.08029643, -0.20128398,  0.17915091,\n",
       "        -0.12449706,  0.27622256, -0.29605404, -0.08522434,  0.20100729,\n",
       "        -0.15202107, -0.45057097, -0.25018755, -0.02190765,  0.14241923,\n",
       "        -0.10007721, -0.3054349 , -0.3438292 , -0.3339971 , -0.23518157,\n",
       "         0.29611602, -0.22463813,  0.16780013, -0.2046059 , -0.0515097 ,\n",
       "        -0.07372885,  0.12829317,  0.09425507, -0.18668576], dtype=float32),\n",
       " array([[-0.00343778,  0.19007564, -0.04454145,  0.2624723 ,  0.02824138,\n",
       "          0.27278844,  0.20384203,  0.2293406 ,  0.23509052],\n",
       "        [ 0.18081883, -0.02940985,  0.11760423,  0.19806741,  0.11692081,\n",
       "          0.11626527, -0.15003322, -0.044376  ,  0.05826396],\n",
       "        [-0.15648906, -0.08517202, -0.26221475, -0.22496551,  0.0699067 ,\n",
       "          0.08250788, -0.1966673 , -0.00190586, -0.15640166],\n",
       "        [-0.20708895, -0.03296515,  0.051302  ,  0.07610888, -0.25790682,\n",
       "          0.05513678, -0.22685966, -0.03534845,  0.14799482],\n",
       "        [-0.1858381 ,  0.07242373, -0.1297947 , -0.22578295, -0.24788919,\n",
       "         -0.09366589, -0.05499003, -0.14001529, -0.01517605],\n",
       "        [-0.00292514,  0.14317998,  0.16519725, -0.02877683, -0.17982173,\n",
       "          0.07738843, -0.17649357, -0.25460565,  0.24093595],\n",
       "        [-0.21063414, -0.10613099,  0.10184327, -0.17798048,  0.12237141,\n",
       "          0.03634454, -0.10178906,  0.12973273, -0.05901336],\n",
       "        [-0.0244832 ,  0.09459259, -0.10373323, -0.01393504,  0.06612541,\n",
       "         -0.23155256, -0.0739274 , -0.15229882,  0.10007093],\n",
       "        [-0.2308419 , -0.02571088, -0.08742815,  0.11077613,  0.03414173,\n",
       "         -0.13021685, -0.03562542,  0.01123001,  0.17115095],\n",
       "        [-0.1764656 , -0.23107706, -0.10778021, -0.10561392, -0.0831855 ,\n",
       "         -0.21029294, -0.02231734, -0.11738957, -0.19534808],\n",
       "        [ 0.00213998,  0.02190003,  0.18918404, -0.19957817,  0.17543091,\n",
       "         -0.21452902,  0.0611126 , -0.09970628,  0.04304278],\n",
       "        [ 0.14182496,  0.02985714,  0.03954471, -0.23922224, -0.052608  ,\n",
       "          0.21380173, -0.15869269,  0.2189328 , -0.10974498],\n",
       "        [-0.08440467, -0.13162373, -0.06652363, -0.11328668, -0.16559654,\n",
       "         -0.25771073, -0.24212801, -0.22176147, -0.06137253],\n",
       "        [ 0.00495978, -0.06683829,  0.23977374,  0.13211186, -0.2339674 ,\n",
       "          0.13368556, -0.15598145, -0.1332426 ,  0.16904765],\n",
       "        [ 0.00497428, -0.10558479, -0.02938994, -0.16429214, -0.25534856,\n",
       "         -0.08231228,  0.21161595,  0.05895335,  0.13051592],\n",
       "        [-0.25050944, -0.23084243, -0.16400197, -0.00045408, -0.07632954,\n",
       "          0.10619499, -0.18913288,  0.1868413 , -0.15513119],\n",
       "        [-0.1495072 ,  0.14356893, -0.13631684, -0.00250127, -0.08441041,\n",
       "         -0.12830444,  0.04028812, -0.14132527,  0.1660993 ],\n",
       "        [-0.14009735,  0.22133683, -0.10265949,  0.06479685,  0.1165025 ,\n",
       "         -0.1621679 , -0.18250021,  0.14935362, -0.08331221],\n",
       "        [ 0.00297229, -0.19794646,  0.05714014, -0.0850256 ,  0.20728637,\n",
       "         -0.25053683,  0.25692493, -0.1067557 , -0.06301405],\n",
       "        [-0.14203954,  0.18295348, -0.12311902,  0.15557577, -0.036881  ,\n",
       "         -0.1019056 , -0.1202898 ,  0.12893009, -0.10696598],\n",
       "        [ 0.22534826,  0.17750075,  0.11962621,  0.14963001,  0.18322101,\n",
       "         -0.03826347, -0.09445035, -0.17683394, -0.21252058],\n",
       "        [-0.17927165, -0.05054981,  0.2137144 , -0.18769966, -0.02969601,\n",
       "          0.07438522,  0.06308343,  0.22644804, -0.1214591 ],\n",
       "        [ 0.02428965,  0.09940976, -0.08750393, -0.02733806, -0.19206095,\n",
       "          0.18993083,  0.03676072,  0.21342218,  0.05414297],\n",
       "        [-0.2345469 , -0.10751066,  0.00392631,  0.16522391, -0.00480828,\n",
       "         -0.13235338, -0.12620313, -0.05010847, -0.13792007],\n",
       "        [-0.19615574, -0.20516942, -0.19812341,  0.09062779, -0.01265952,\n",
       "         -0.1296905 ,  0.00420103, -0.21815877, -0.20677383],\n",
       "        [ 0.1729956 , -0.03205203,  0.21458909,  0.20194899,  0.14394014,\n",
       "          0.05970513,  0.16572785,  0.23686422, -0.0132656 ],\n",
       "        [ 0.15457791, -0.04933466,  0.12696265,  0.11325472,  0.21184397,\n",
       "         -0.05173299,  0.13052854,  0.16014774,  0.06119921],\n",
       "        [-0.07392353, -0.09837209, -0.20022275, -0.19647957, -0.09853347,\n",
       "          0.18662868, -0.04987897, -0.17609136,  0.17380092],\n",
       "        [ 0.05074392, -0.16713326, -0.1918037 , -0.21016896, -0.02020407,\n",
       "          0.04646228, -0.080247  , -0.1523935 , -0.07169195],\n",
       "        [ 0.09211016,  0.19328316, -0.0099514 ,  0.132058  , -0.2721998 ,\n",
       "          0.09397355,  0.12558512,  0.18081109, -0.13798957],\n",
       "        [ 0.24532685,  0.19781995, -0.02590087,  0.24319121, -0.24017349,\n",
       "         -0.1467953 ,  0.21797328,  0.07843878,  0.19844125],\n",
       "        [ 0.22664003,  0.09356577, -0.24561836, -0.1707185 ,  0.23905143,\n",
       "         -0.16414818,  0.0265293 ,  0.20107323, -0.19800717],\n",
       "        [ 0.09138097,  0.17008084,  0.18908326, -0.05420393,  0.12314047,\n",
       "         -0.00596975, -0.01745755, -0.2316813 ,  0.24233906],\n",
       "        [-0.04133199, -0.04730858,  0.04593867, -0.23925874, -0.09257749,\n",
       "          0.17568108,  0.17178887,  0.05969946,  0.05390412],\n",
       "        [ 0.22864105, -0.24951659,  0.01190972,  0.01852338, -0.09534464,\n",
       "          0.11425716, -0.02879345, -0.23608649,  0.12012075],\n",
       "        [ 0.17660448,  0.11095227, -0.07822061,  0.14650695, -0.00400646,\n",
       "         -0.04339727, -0.07059996,  0.1442213 ,  0.21986344],\n",
       "        [ 0.17444752,  0.18784666, -0.2044474 , -0.05011321,  0.22699058,\n",
       "         -0.15463437, -0.2131782 , -0.11349334, -0.17823899],\n",
       "        [-0.18219437, -0.00476428,  0.218005  , -0.20273075, -0.23808542,\n",
       "          0.03291927,  0.18116371, -0.23248003,  0.00321101],\n",
       "        [-0.06537715,  0.07770531, -0.09408554, -0.24961632, -0.01013838,\n",
       "         -0.22040656, -0.10725493,  0.00797276,  0.05010128],\n",
       "        [ 0.18383195,  0.01917784,  0.24780832, -0.04765086,  0.04493328,\n",
       "         -0.22203532, -0.04756579, -0.17950462,  0.22105189],\n",
       "        [-0.17381857, -0.07520458, -0.24696778, -0.2953899 , -0.04777664,\n",
       "          0.08250129, -0.07885092,  0.12095478,  0.11862696],\n",
       "        [ 0.1267336 , -0.02884858,  0.10708913,  0.13618523, -0.05322851,\n",
       "          0.15575723,  0.02270507, -0.22528268, -0.18369707],\n",
       "        [ 0.09917943,  0.08667015,  0.2643525 ,  0.20692886,  0.14976396,\n",
       "          0.13659365, -0.13714474,  0.21224493, -0.04044567],\n",
       "        [ 0.21314444,  0.09229159,  0.25298962, -0.04738083,  0.21774858,\n",
       "          0.21391179,  0.07491682, -0.14440946,  0.14505638],\n",
       "        [ 0.2248558 ,  0.00611863,  0.16505222,  0.21024743, -0.1554885 ,\n",
       "         -0.23591538, -0.13934919, -0.11355022, -0.05504826],\n",
       "        [-0.13499703, -0.05755338, -0.05858697,  0.02274786,  0.24936691,\n",
       "         -0.15744218,  0.11587048, -0.03295029, -0.03046644],\n",
       "        [-0.1590154 , -0.1862852 , -0.15823182, -0.19549932, -0.10342146,\n",
       "          0.17662291,  0.05238348,  0.1915534 , -0.16400412],\n",
       "        [-0.19061755,  0.07171141,  0.1257227 ,  0.03738867,  0.22913986,\n",
       "          0.07015149,  0.17512411,  0.02044768, -0.06015256],\n",
       "        [-0.12736897,  0.00597404,  0.13015926,  0.08689561, -0.22441621,\n",
       "         -0.18905285, -0.03538446, -0.23033604, -0.05092864],\n",
       "        [ 0.02478901, -0.2272141 , -0.13892801, -0.13429435,  0.10478321,\n",
       "         -0.02232109,  0.1517629 , -0.15635003, -0.06145396],\n",
       "        [ 0.06381837,  0.23036844, -0.25723463, -0.19979414, -0.19143029,\n",
       "         -0.16218822, -0.11134954,  0.25172877, -0.10356982],\n",
       "        [-0.08555837, -0.12126447, -0.16928597,  0.01059518,  0.1570616 ,\n",
       "         -0.15759052, -0.15126339,  0.17124541, -0.19443929],\n",
       "        [-0.23973328,  0.130857  , -0.09711447,  0.264271  ,  0.03004876,\n",
       "          0.10284802, -0.08540011,  0.25054997, -0.11713368],\n",
       "        [-0.12275643,  0.00505341, -0.05987441, -0.0486555 ,  0.01138855,\n",
       "         -0.07506452,  0.04298526,  0.13450077, -0.15836726],\n",
       "        [-0.13940038,  0.12758759, -0.10437789,  0.01076483,  0.03388457,\n",
       "          0.2279317 , -0.17677814, -0.10532979, -0.20308714],\n",
       "        [ 0.21811797,  0.05055923,  0.06418011, -0.23422673,  0.23184742,\n",
       "          0.19150922,  0.0340983 , -0.10760567,  0.05660611],\n",
       "        [-0.02347202,  0.0704302 , -0.08605087,  0.00809235, -0.25684625,\n",
       "         -0.00146177, -0.1608761 ,  0.13899337,  0.20896953],\n",
       "        [-0.01376226, -0.15632471,  0.12880994,  0.18102564,  0.1241437 ,\n",
       "         -0.1785484 ,  0.1748331 , -0.08637609,  0.12181192],\n",
       "        [ 0.14598162, -0.00834782,  0.20832275,  0.06159436, -0.00943839,\n",
       "          0.12558551, -0.21014065,  0.20718479, -0.08602385],\n",
       "        [-0.17137954, -0.09903139, -0.22648971,  0.12382706,  0.14361666,\n",
       "         -0.14866833,  0.20841129, -0.17495345,  0.2231097 ],\n",
       "        [ 0.181559  ,  0.19393575,  0.21758674,  0.1636784 ,  0.21653694,\n",
       "         -0.25557894,  0.08011924, -0.22439066, -0.04412276],\n",
       "        [-0.07120066,  0.23404504,  0.22500205,  0.02059329,  0.13216507,\n",
       "         -0.00784865, -0.08571833, -0.00704818,  0.13946773],\n",
       "        [ 0.00713812,  0.20204538,  0.20113206,  0.20747907, -0.20975482,\n",
       "          0.19957827,  0.06911874, -0.15744029,  0.13389546],\n",
       "        [ 0.07346831, -0.19138561,  0.16807905, -0.12017483, -0.23882088,\n",
       "          0.19031872, -0.06094208,  0.07896232, -0.08082571]],\n",
       "       dtype=float32),\n",
       " array([ 0.4299164 ,  0.11799848, -0.29504788, -0.08233804, -0.3943132 ,\n",
       "        -0.42834184,  0.4758365 , -0.6065508 ,  0.24788788], dtype=float32)]"
      ]
     },
     "execution_count": 31,
     "metadata": {},
     "output_type": "execute_result"
    }
   ],
   "source": [
    "model.get_weights()"
   ]
  },
  {
   "cell_type": "code",
   "execution_count": 39,
   "id": "df97fbab",
   "metadata": {},
   "outputs": [
    {
     "data": {
      "text/plain": [
       "(1, 99)"
      ]
     },
     "execution_count": 39,
     "metadata": {},
     "output_type": "execute_result"
    }
   ],
   "source": [
    "np.expand_dims(x_test[0],axis=0).shape"
   ]
  },
  {
   "cell_type": "code",
   "execution_count": 40,
   "id": "534fcefa",
   "metadata": {},
   "outputs": [],
   "source": [
    "import pickle"
   ]
  },
  {
   "cell_type": "code",
   "execution_count": 41,
   "id": "8644501b",
   "metadata": {},
   "outputs": [
    {
     "name": "stdout",
     "output_type": "stream",
     "text": [
      "INFO:tensorflow:Assets written to: ram://eb520d8b-38be-40d3-a58a-d20546ba9f73/assets\n"
     ]
    }
   ],
   "source": [
    "pickle.dump(model, open('model_pkl.pkl','wb'))"
   ]
  },
  {
   "cell_type": "code",
   "execution_count": 42,
   "id": "a8a185ba",
   "metadata": {},
   "outputs": [],
   "source": [
    "# model_pkl = pickle.load(open('model_pkl.pkl','rb'))"
   ]
  },
  {
   "cell_type": "code",
   "execution_count": null,
   "id": "dbbdafac",
   "metadata": {},
   "outputs": [],
   "source": []
  },
  {
   "cell_type": "code",
   "execution_count": 43,
   "id": "c560d558",
   "metadata": {},
   "outputs": [
    {
     "name": "stdout",
     "output_type": "stream",
     "text": [
      "1/1 [==============================] - 0s 53ms/step\n"
     ]
    },
    {
     "data": {
      "text/plain": [
       "array([[9.85777855e-01, 2.97643012e-08, 1.67123271e-05, 5.80652613e-06,\n",
       "        1.07634679e-10, 3.37739657e-05, 1.02005815e-02, 2.13246234e-03,\n",
       "        1.83275365e-03]], dtype=float32)"
      ]
     },
     "execution_count": 43,
     "metadata": {},
     "output_type": "execute_result"
    }
   ],
   "source": [
    "model.predict(np.expand_dims(x_test[0],axis=0))"
   ]
  },
  {
   "cell_type": "code",
   "execution_count": 44,
   "id": "93a00418",
   "metadata": {},
   "outputs": [],
   "source": [
    "# mapping = dict(zip(le.classes_, le.transform(le.classes_)))"
   ]
  },
  {
   "cell_type": "code",
   "execution_count": 36,
   "id": "45744796",
   "metadata": {},
   "outputs": [
    {
     "data": {
      "text/plain": [
       "array(['chair'], dtype=object)"
      ]
     },
     "execution_count": 36,
     "metadata": {},
     "output_type": "execute_result"
    }
   ],
   "source": [
    "le.inverse_transform([0])"
   ]
  },
  {
   "cell_type": "code",
   "execution_count": 41,
   "id": "54f09986",
   "metadata": {},
   "outputs": [
    {
     "name": "stdout",
     "output_type": "stream",
     "text": [
      "1/1 [==============================] - 0s 31ms/step\n",
      "1/1 [==============================] - 0s 30ms/step\n",
      "1/1 [==============================] - 0s 30ms/step\n",
      "1/1 [==============================] - 0s 33ms/step\n",
      "1/1 [==============================] - 0s 31ms/step\n",
      "1/1 [==============================] - 0s 32ms/step\n",
      "1/1 [==============================] - 0s 30ms/step\n",
      "1/1 [==============================] - 0s 31ms/step\n",
      "1/1 [==============================] - 0s 34ms/step\n",
      "1/1 [==============================] - 0s 33ms/step\n",
      "1/1 [==============================] - 0s 31ms/step\n",
      "1/1 [==============================] - 0s 32ms/step\n",
      "1/1 [==============================] - 0s 31ms/step\n",
      "1/1 [==============================] - 0s 30ms/step\n",
      "1/1 [==============================] - 0s 32ms/step\n",
      "1/1 [==============================] - 0s 30ms/step\n",
      "1/1 [==============================] - 0s 32ms/step\n",
      "1/1 [==============================] - 0s 31ms/step\n",
      "1/1 [==============================] - 0s 30ms/step\n",
      "1/1 [==============================] - 0s 31ms/step\n",
      "1/1 [==============================] - 0s 32ms/step\n",
      "1/1 [==============================] - 0s 30ms/step\n",
      "1/1 [==============================] - 0s 35ms/step\n",
      "1/1 [==============================] - 0s 30ms/step\n",
      "1/1 [==============================] - 0s 30ms/step\n",
      "1/1 [==============================] - 0s 30ms/step\n",
      "1/1 [==============================] - 0s 30ms/step\n",
      "1/1 [==============================] - 0s 32ms/step\n",
      "1/1 [==============================] - 0s 34ms/step\n",
      "1/1 [==============================] - 0s 29ms/step\n",
      "1/1 [==============================] - 0s 32ms/step\n",
      "1/1 [==============================] - 0s 31ms/step\n",
      "1/1 [==============================] - 0s 33ms/step\n",
      "1/1 [==============================] - 0s 29ms/step\n",
      "1/1 [==============================] - 0s 30ms/step\n",
      "1/1 [==============================] - 0s 31ms/step\n",
      "1/1 [==============================] - 0s 31ms/step\n",
      "1/1 [==============================] - 0s 30ms/step\n",
      "1/1 [==============================] - 0s 31ms/step\n",
      "1/1 [==============================] - 0s 33ms/step\n",
      "1/1 [==============================] - 0s 31ms/step\n",
      "1/1 [==============================] - 0s 30ms/step\n",
      "1/1 [==============================] - 0s 31ms/step\n",
      "1/1 [==============================] - 0s 32ms/step\n",
      "1/1 [==============================] - 0s 31ms/step\n",
      "1/1 [==============================] - 0s 30ms/step\n",
      "1/1 [==============================] - 0s 31ms/step\n",
      "1/1 [==============================] - 0s 32ms/step\n",
      "1/1 [==============================] - 0s 31ms/step\n",
      "1/1 [==============================] - 0s 32ms/step\n",
      "1/1 [==============================] - 0s 31ms/step\n",
      "1/1 [==============================] - 0s 30ms/step\n",
      "1/1 [==============================] - 0s 32ms/step\n",
      "1/1 [==============================] - 0s 31ms/step\n",
      "1/1 [==============================] - 0s 31ms/step\n",
      "1/1 [==============================] - 0s 30ms/step\n",
      "1/1 [==============================] - 0s 29ms/step\n",
      "1/1 [==============================] - 0s 31ms/step\n",
      "1/1 [==============================] - 0s 31ms/step\n",
      "1/1 [==============================] - 0s 30ms/step\n",
      "1/1 [==============================] - 0s 31ms/step\n",
      "1/1 [==============================] - 0s 32ms/step\n",
      "1/1 [==============================] - 0s 33ms/step\n",
      "1/1 [==============================] - 0s 31ms/step\n",
      "1/1 [==============================] - 0s 31ms/step\n",
      "1/1 [==============================] - 0s 31ms/step\n",
      "1/1 [==============================] - 0s 30ms/step\n",
      "1/1 [==============================] - 0s 31ms/step\n",
      "1/1 [==============================] - 0s 32ms/step\n",
      "1/1 [==============================] - 0s 31ms/step\n",
      "1/1 [==============================] - 0s 31ms/step\n",
      "1/1 [==============================] - 0s 30ms/step\n",
      "1/1 [==============================] - 0s 31ms/step\n",
      "1/1 [==============================] - 0s 32ms/step\n",
      "1/1 [==============================] - 0s 31ms/step\n",
      "1/1 [==============================] - 0s 31ms/step\n",
      "1/1 [==============================] - 0s 31ms/step\n",
      "1/1 [==============================] - 0s 30ms/step\n",
      "1/1 [==============================] - 0s 34ms/step\n",
      "1/1 [==============================] - 0s 31ms/step\n",
      "1/1 [==============================] - 0s 38ms/step\n",
      "1/1 [==============================] - 0s 35ms/step\n",
      "1/1 [==============================] - 0s 31ms/step\n",
      "1/1 [==============================] - 0s 33ms/step\n",
      "1/1 [==============================] - 0s 31ms/step\n",
      "1/1 [==============================] - 0s 32ms/step\n",
      "1/1 [==============================] - 0s 32ms/step\n",
      "1/1 [==============================] - 0s 30ms/step\n",
      "1/1 [==============================] - 0s 33ms/step\n",
      "1/1 [==============================] - 0s 30ms/step\n",
      "1/1 [==============================] - 0s 32ms/step\n",
      "1/1 [==============================] - 0s 31ms/step\n",
      "1/1 [==============================] - 0s 32ms/step\n",
      "1/1 [==============================] - 0s 36ms/step\n",
      "1/1 [==============================] - 0s 37ms/step\n",
      "1/1 [==============================] - 0s 30ms/step\n",
      "1/1 [==============================] - 0s 30ms/step\n",
      "1/1 [==============================] - 0s 32ms/step\n",
      "1/1 [==============================] - 0s 31ms/step\n",
      "1/1 [==============================] - 0s 32ms/step\n",
      "1/1 [==============================] - 0s 31ms/step\n",
      "1/1 [==============================] - 0s 32ms/step\n",
      "1/1 [==============================] - 0s 31ms/step\n",
      "1/1 [==============================] - 0s 32ms/step\n",
      "1/1 [==============================] - 0s 30ms/step\n",
      "1/1 [==============================] - 0s 33ms/step\n",
      "1/1 [==============================] - 0s 32ms/step\n",
      "1/1 [==============================] - 0s 30ms/step\n",
      "1/1 [==============================] - 0s 32ms/step\n",
      "1/1 [==============================] - 0s 32ms/step\n",
      "1/1 [==============================] - 0s 30ms/step\n",
      "1/1 [==============================] - 0s 29ms/step\n",
      "1/1 [==============================] - 0s 33ms/step\n"
     ]
    }
   ],
   "source": [
    "cap = cv2.VideoCapture(0)\n",
    "with mp_pose.Pose(min_detection_confidence=0.5, min_tracking_confidence=0.5) as pose:\n",
    "    while cap.isOpened():\n",
    "        success, image = cap.read()\n",
    "        if not success:\n",
    "            print(\"Unable to record\")\n",
    "            continue\n",
    "        image.flags.writeable = False\n",
    "        image = cv2.cvtColor(image,cv2.COLOR_BGR2RGB )\n",
    "        results = pose.process(image)\n",
    "        pose_landmarks = results.pose_landmarks\n",
    "        output_frame = image.copy()\n",
    "        pose_name = 'Unidentified'\n",
    "        if pose_landmarks is not None:\n",
    "#             torso_center_x, torso_center_y = get_center_point(pose_landmarks)\n",
    "            vector = [[lmk.x, lmk.y, lmk.z] for lmk in pose_landmarks.landmark]\n",
    "            frame_height, frame_width = output_frame.shape[:2]\n",
    "\n",
    "            vector *= np.array([frame_width, frame_height, frame_width])\n",
    "            vector = vector.flatten()\n",
    "            vector = np.expand_dims(vector,axis=0)\n",
    "\n",
    "            prediction = model.predict((vector))\n",
    "\n",
    "            index = np.argmax(prediction)\n",
    "\n",
    "            pose_name = le.inverse_transform([index])\n",
    "#             print(\"pose name:\",pose_name)\n",
    "\n",
    "        image.flags.writeable = True\n",
    "        image = cv2.cvtColor(image, cv2.COLOR_RGB2BGR)\n",
    "\n",
    "        mp_drawing.draw_landmarks(image, pose_landmarks, mp_pose.POSE_CONNECTIONS, landmark_drawing_spec = mp_drawing_styles.get_default_pose_landmarks_style())\n",
    "\n",
    "        image = cv2.flip(image,1)\n",
    "\n",
    "        #Rectangle\n",
    "        start_point = (0, 0)\n",
    "        end_point = (300, 100)\n",
    "        color = (0, 0, 0)\n",
    "        thickness = -1\n",
    "        image = cv2.rectangle(image, start_point, end_point, color, thickness)\n",
    "        #write\n",
    "        font = cv2.FONT_HERSHEY_SIMPLEX\n",
    "        org = (25, 50)\n",
    "        fontScale = 1\n",
    "        color = (255, 255, 255)\n",
    "        thickness = 2\n",
    "\n",
    "        image = cv2.putText(image, pose_name[0], org, font, \n",
    "                       fontScale, color, thickness, cv2.LINE_AA)\n",
    "        cv2.imshow('MediaPipe Pose',image)\n",
    "        \n",
    "        if cv2.waitKey(1) & 0xFF == ord('q'):\n",
    "            break\n",
    "\n",
    "cap.release()\n",
    "cv2.destroyAllWindows()"
   ]
  },
  {
   "cell_type": "code",
   "execution_count": 37,
   "id": "e2143b17",
   "metadata": {},
   "outputs": [],
   "source": [
    "#EOF"
   ]
  },
  {
   "cell_type": "code",
   "execution_count": 47,
   "id": "d031ffdb",
   "metadata": {},
   "outputs": [
    {
     "data": {
      "text/plain": [
       "array(['chair', 'cobra', 'dog', 'no_pose', 'shoudler_stand', 'traingle',\n",
       "       'tree', 'warrior', 'warrior Balanced'], dtype=object)"
      ]
     },
     "execution_count": 47,
     "metadata": {},
     "output_type": "execute_result"
    }
   ],
   "source": [
    "df[1].unique()"
   ]
  },
  {
   "cell_type": "code",
   "execution_count": 48,
   "id": "06b7c134",
   "metadata": {},
   "outputs": [],
   "source": [
    "pose_dict={};"
   ]
  },
  {
   "cell_type": "code",
   "execution_count": 49,
   "id": "6bdc9be7",
   "metadata": {},
   "outputs": [],
   "source": [
    "for pose in df[1].unique():\n",
    "    pose_dict[str(le.transform([pose])[0])] = pose"
   ]
  },
  {
   "cell_type": "code",
   "execution_count": 50,
   "id": "d5bfdafe",
   "metadata": {},
   "outputs": [
    {
     "data": {
      "text/plain": [
       "array([0])"
      ]
     },
     "execution_count": 50,
     "metadata": {},
     "output_type": "execute_result"
    }
   ],
   "source": [
    "le.transform(['chair'])"
   ]
  },
  {
   "cell_type": "code",
   "execution_count": 51,
   "id": "b17177bb",
   "metadata": {},
   "outputs": [
    {
     "data": {
      "text/plain": [
       "{'0': 'chair',\n",
       " '1': 'cobra',\n",
       " '2': 'dog',\n",
       " '3': 'no_pose',\n",
       " '4': 'shoudler_stand',\n",
       " '5': 'traingle',\n",
       " '6': 'tree',\n",
       " '7': 'warrior',\n",
       " '8': 'warrior Balanced'}"
      ]
     },
     "execution_count": 51,
     "metadata": {},
     "output_type": "execute_result"
    }
   ],
   "source": [
    "pose_dict"
   ]
  },
  {
   "cell_type": "code",
   "execution_count": 52,
   "id": "695b8a20",
   "metadata": {},
   "outputs": [],
   "source": [
    "import json"
   ]
  },
  {
   "cell_type": "code",
   "execution_count": 53,
   "id": "f02ef3b6",
   "metadata": {},
   "outputs": [],
   "source": [
    "with open('pose_labels.txt','w') as f:\n",
    "    f.write(json.dumps(pose_dict))"
   ]
  },
  {
   "cell_type": "code",
   "execution_count": 54,
   "id": "9cf122ec",
   "metadata": {},
   "outputs": [
    {
     "name": "stdout",
     "output_type": "stream",
     "text": [
      "INFO:tensorflow:Assets written to: C:\\Users\\sagoi\\AppData\\Local\\Temp\\tmp75cfc4r_\\assets\n",
      "Model size: 71KB\n"
     ]
    }
   ],
   "source": [
    "converter = tf.lite.TFLiteConverter.from_keras_model(model)\n",
    "converter.optimizations = [tf.lite.Optimize.DEFAULT]\n",
    "tflite_model = converter.convert()\n",
    "\n",
    "print('Model size: %dKB' % (len(tflite_model) / 1024))\n",
    "\n",
    "with open('pose_classifier.tflite', 'wb') as f:\n",
    "  f.write(tflite_model)"
   ]
  },
  {
   "cell_type": "code",
   "execution_count": 55,
   "id": "6e8237f2",
   "metadata": {},
   "outputs": [],
   "source": [
    "# with open('pose_labels.txt', 'w') as f:\n",
    "#   f.write('\\n'.join(df[1]))"
   ]
  },
  {
   "cell_type": "code",
   "execution_count": 56,
   "id": "3f83829d",
   "metadata": {},
   "outputs": [],
   "source": [
    "# from zipfile import ZipFile"
   ]
  },
  {
   "cell_type": "code",
   "execution_count": 57,
   "id": "59855925",
   "metadata": {},
   "outputs": [],
   "source": [
    "# with ZipFile('model.zip', 'w') as zipObj:\n",
    "#     zipObj.write('pose_classifier.tflite')\n",
    "#     zipObj.write('pose_labels.txt')\n",
    "#     zipObj.close()"
   ]
  },
  {
   "cell_type": "code",
   "execution_count": 58,
   "id": "2493f09f",
   "metadata": {},
   "outputs": [],
   "source": [
    "# tfjs.converters.save_keras_model(model,'model')"
   ]
  },
  {
   "cell_type": "code",
   "execution_count": 59,
   "id": "9acb19a2",
   "metadata": {},
   "outputs": [],
   "source": [
    "# !zip pose_classifier.zip pose_labels.txt pose_classifier.tflite"
   ]
  },
  {
   "cell_type": "code",
   "execution_count": 60,
   "id": "25f9e510",
   "metadata": {},
   "outputs": [],
   "source": [
    "# try:\n",
    "#   from google.colab import files\n",
    "#   files.download('pose_classifier.zip')\n",
    "# except:\n",
    "#   pass"
   ]
  },
  {
   "cell_type": "code",
   "execution_count": 61,
   "id": "f3eafeb9",
   "metadata": {},
   "outputs": [
    {
     "name": "stdout",
     "output_type": "stream",
     "text": [
      "20/20 [==============================] - 0s 6ms/step\n"
     ]
    },
    {
     "data": {
      "text/plain": [
       "array([[9.8577780e-01, 2.9764356e-08, 1.6712342e-05, ..., 1.0200592e-02,\n",
       "        2.1324651e-03, 1.8327544e-03],\n",
       "       [2.7433457e-04, 2.1371872e-05, 6.7735442e-07, ..., 5.2732042e-07,\n",
       "        1.4193794e-04, 9.9955970e-01],\n",
       "       [2.1944558e-02, 1.0433935e-05, 4.6506710e-04, ..., 9.6038407e-01,\n",
       "        9.6011292e-03, 2.3431632e-04],\n",
       "       ...,\n",
       "       [6.7266751e-06, 9.2336594e-04, 9.9166542e-01, ..., 2.5574287e-05,\n",
       "        3.7513910e-05, 6.7353095e-03],\n",
       "       [6.4231204e-10, 7.8152130e-15, 1.4526008e-08, ..., 2.0807258e-09,\n",
       "        1.0000000e+00, 4.8667914e-09],\n",
       "       [1.2928301e-01, 1.0341634e-03, 5.1784734e-03, ..., 8.0304277e-01,\n",
       "        2.4340337e-02, 7.3612458e-03]], dtype=float32)"
      ]
     },
     "execution_count": 61,
     "metadata": {},
     "output_type": "execute_result"
    }
   ],
   "source": [
    "model.predict(x_test)"
   ]
  },
  {
   "cell_type": "code",
   "execution_count": 62,
   "id": "fec9fc54",
   "metadata": {},
   "outputs": [
    {
     "name": "stdout",
     "output_type": "stream",
     "text": [
      "20/20 [==============================] - 0s 5ms/step - loss: 0.2302 - accuracy: 0.9418\n"
     ]
    },
    {
     "data": {
      "text/plain": [
       "[0.23016199469566345, 0.9418238997459412]"
      ]
     },
     "execution_count": 62,
     "metadata": {},
     "output_type": "execute_result"
    }
   ],
   "source": [
    "model.evaluate(x_test, y_test)"
   ]
  }
 ],
 "metadata": {
  "kernelspec": {
   "display_name": "Python 3 (ipykernel)",
   "language": "python",
   "name": "python3"
  },
  "language_info": {
   "codemirror_mode": {
    "name": "ipython",
    "version": 3
   },
   "file_extension": ".py",
   "mimetype": "text/x-python",
   "name": "python",
   "nbconvert_exporter": "python",
   "pygments_lexer": "ipython3",
   "version": "3.9.7"
  }
 },
 "nbformat": 4,
 "nbformat_minor": 5
}
